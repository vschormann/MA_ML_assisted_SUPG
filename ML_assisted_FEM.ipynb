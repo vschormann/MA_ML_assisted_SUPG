{
 "cells": [
  {
   "cell_type": "code",
   "execution_count": null,
   "id": "2b13e0cc",
   "metadata": {},
   "outputs": [],
   "source": [
    "from supg.sp_problems import dat1, stg\n",
    "from torch_classes.nn_models import md1, md2\n",
    "from torch_classes.supg_torch import supg_loss\n",
    "import numpy as np\n",
    "import torch\n",
    "import matplotlib.pyplot as plt\n",
    "import pyvista as pv\n",
    "from supg import supg\n",
    "import math\n",
    "\n",
    "sd = supg.data(*dat1)\n",
    "\n",
    "device = torch.device(\"mps\")\n",
    "\n",
    "\n",
    "inpt = torch.tensor(np.array(sd.tabulate_problem_data()[1:2]).reshape(1,5,-1), dtype=torch.float, device=device)\n",
    "\n",
    "\n",
    "model = md2(inpt.shape[1], inpt.shape[2]).to(device)\n",
    "\n",
    "learning_rate = 1e-3\n",
    "\n",
    "\n",
    "origin = torch.zeros_like(model(inpt))\n",
    "optimizer = torch.optim.SGD(model.parameters(), lr=learning_rate)\n",
    "\n",
    "\n",
    "regulization = torch.nn.MSELoss(reduction='sum')\n",
    "for t in range(1500):\n",
    "    pred = model(inpt)\n",
    "    loss = supg_loss(sd, pred) + regulization(pred, origin)\n",
    "\n",
    "    optimizer.zero_grad()\n",
    "    loss.backward()\n",
    "    optimizer.step()\n",
    "    \n",
    "\n",
    "comp_model = md1(pred)\n",
    "comp_sd = supg.data(*dat1)\n",
    "supg_loss(comp_sd, pred)\n",
    "\n",
    "comp_optimizer = torch.optim.SGD(comp_model.parameters(), lr=learning_rate)\n",
    "\n",
    "filename = 'model_compare.mp4'\n",
    "\n",
    "p = pv.Plotter(notebook=True, shape=(1,2))\n",
    "p.open_movie(filename, framerate= 40)\n",
    "\n",
    "p.subplot(0,0)\n",
    "stg.add_data(sd.uh)\n",
    "p.add_mesh(stg.grid.warp_by_scalar(), show_edges=True)\n",
    "\n",
    "p.subplot(0,1)\n",
    "stg.add_data(comp_sd.uh)\n",
    "p.add_mesh(stg.grid.warp_by_scalar(), show_edges=True)\n",
    "\n",
    "p.write_frame()\n",
    "\n",
    "\n",
    "for t in range(900):\n",
    "    p.clear\n",
    "    pred = model(inpt)\n",
    "    comp_pred = comp_model()\n",
    "\n",
    "    loss = supg_loss(sd, pred) + regulization(pred, origin)\n",
    "    comp_loss = supg_loss(comp_sd, comp_pred)\n",
    "\n",
    "    p.subplot(0,0)\n",
    "    stg.add_data(sd.uh)\n",
    "    p.add_mesh(stg.grid.warp_by_scalar(), show_edges=True)\n",
    "\n",
    "    p.add_text('NN-model 1: 'f'Iterationen: {math.floor(t/10)*10}', name='time-label')\n",
    "    p.subplot(0,1)\n",
    "    p.add_text('Gradient descend')\n",
    "    stg.add_data(comp_sd.uh)\n",
    "    p.add_mesh(stg.grid.warp_by_scalar(), show_edges=True)\n",
    "\n",
    "    p.write_frame()\n",
    "\n",
    "    optimizer.zero_grad()\n",
    "    comp_optimizer.zero_grad()\n",
    "\n",
    "    loss.backward()\n",
    "    comp_loss.backward()\n",
    "\n",
    "    optimizer.step()\n",
    "    comp_optimizer.step()\n",
    "\n",
    "p.close()"
   ]
  },
  {
   "cell_type": "code",
   "execution_count": null,
   "id": "1f7498bb",
   "metadata": {},
   "outputs": [
    {
     "data": {
      "text/plain": [
       "True"
      ]
     },
     "execution_count": 11,
     "metadata": {},
     "output_type": "execute_result"
    }
   ],
   "source": [
    "from supg.sp_problems import stg\n",
    "import pyvista\n",
    "isinstance(stg.grid, pyvista.UnstructuredGrid)"
   ]
  },
  {
   "cell_type": "code",
   "execution_count": 1,
   "id": "7d1254b5",
   "metadata": {},
   "outputs": [
    {
     "data": {
      "text/html": [
       "<video src=\"model_compare.mp4\" controls  width=\"1000\"  height=\"1000\">\n",
       "      Your browser does not support the <code>video</code> element.\n",
       "    </video>"
      ],
      "text/plain": [
       "<IPython.core.display.Video object>"
      ]
     },
     "execution_count": 1,
     "metadata": {},
     "output_type": "execute_result"
    }
   ],
   "source": [
    "from IPython.display import Video\n",
    "Video('model_compare.mp4', width=1000, height=1000)"
   ]
  },
  {
   "cell_type": "code",
   "execution_count": null,
   "id": "a5ef903d",
   "metadata": {},
   "outputs": [],
   "source": [
    "from supg.plotter import fem_plotter_grid\n",
    "import pyvista as pv\n",
    "\n",
    "stg = fem_plotter_grid(sd.Wh)\n",
    "stg.add_data(sd.uh)\n",
    "p = pv.Plotter()\n",
    "p.add_mesh(stg.grid.warp_by_scalar(), show_edges=True)\n",
    "p.show()\n"
   ]
  },
  {
   "cell_type": "code",
   "execution_count": null,
   "id": "bc8acf88",
   "metadata": {},
   "outputs": [],
   "source": [
    "from supg.sp_problems import ex1\n",
    "import numpy as np\n",
    "\n",
    "pts = ex1.tabulate_problem_data()[0]\n",
    "x = pts[:,0]\n",
    "y = pts[:,1]\n",
    "np.lexsort((pts[:,0], -pts[:,1])).reshape(10,10)"
   ]
  }
 ],
 "metadata": {
  "kernelspec": {
   "display_name": "fenicsx-env",
   "language": "python",
   "name": "python3"
  },
  "language_info": {
   "codemirror_mode": {
    "name": "ipython",
    "version": 3
   },
   "file_extension": ".py",
   "mimetype": "text/x-python",
   "name": "python",
   "nbconvert_exporter": "python",
   "pygments_lexer": "ipython3",
   "version": "3.13.5"
  }
 },
 "nbformat": 4,
 "nbformat_minor": 5
}
